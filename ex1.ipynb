{
  "nbformat": 4,
  "nbformat_minor": 0,
  "metadata": {
    "colab": {
      "provenance": [],
      "include_colab_link": true
    },
    "kernelspec": {
      "name": "python3",
      "display_name": "Python 3"
    },
    "language_info": {
      "name": "python"
    }
  },
  "cells": [
    {
      "cell_type": "markdown",
      "metadata": {
        "id": "view-in-github",
        "colab_type": "text"
      },
      "source": [
        "<a href=\"https://colab.research.google.com/github/Sherbl-Ab/CloudCourse/blob/main/ex1.ipynb\" target=\"_parent\"><img src=\"https://colab.research.google.com/assets/colab-badge.svg\" alt=\"Open In Colab\"/></a>"
      ]
    },
    {
      "cell_type": "markdown",
      "source": [],
      "metadata": {
        "id": "-bXSJy35aNTv"
      }
    },
    {
      "cell_type": "code",
      "source": [
        "from IPython.display import display, HTML, Javascript\n",
        "import ipywidgets as widgets\n",
        "\n",
        "# Function to load student data from a text file\n",
        "def load_student_data(filename):\n",
        "    students = {}\n",
        "    with open(filename, 'r') as f:\n",
        "        for line in f:\n",
        "            parts = line.strip().split(',')\n",
        "            if len(parts) >= 5:\n",
        "                name = parts[0].strip()\n",
        "                lastname = parts[1].strip()\n",
        "                email = parts[2].strip()\n",
        "                fav_program = parts[3].strip()\n",
        "                youtube_link = parts[4].strip()\n",
        "\n",
        "                # Join existing parts and add free text after the last comma\n",
        "                if len(parts) > 5:\n",
        "                    free_text = ','.join(parts[5:]).strip()\n",
        "                    line_with_free_text = ','.join(parts[:5]) + ',' + free_text\n",
        "                else:\n",
        "                    line_with_free_text = ','.join(parts)\n",
        "                    free_text = ''\n",
        "\n",
        "                students[name] = {\n",
        "                    'lastname': lastname,\n",
        "                    'email': email,\n",
        "                    'fav_program': fav_program,\n",
        "                    'youtube_link': youtube_link,\n",
        "                    'free_text': free_text\n",
        "                }\n",
        "    return students\n",
        "\n",
        "# Function to update the details display based on selected student\n",
        "def update_details(change):\n",
        "    selected_student = student_dropdown.value\n",
        "    if selected_student in students:\n",
        "        student_details = students[selected_student]\n",
        "        lastname_textbox.value = student_details['lastname']\n",
        "        email_textbox.value = student_details['email']\n",
        "        fav_program_textbox.value = student_details['fav_program']\n",
        "        youtube_link = student_details['youtube_link']\n",
        "        youtube_link_html.value = f'<a href=\"{youtube_link}\" target=\"_blank\">Watch Video</a>' if youtube_link else 'No link available'\n",
        "        free_text_textbox.value = student_details['free_text'] # Update free text textbox\n",
        "\n",
        "# Function to handle submit button click\n",
        "def submit_free_text(button):\n",
        "    selected_student = student_dropdown.value\n",
        "    new_text = free_text_textbox.value.strip()\n",
        "\n",
        "    if selected_student in students and new_text:\n",
        "        # Append new text to the existing free_text, separated by newline\n",
        "        current_text = students[selected_student]['free_text']\n",
        "        updated_text = current_text + \" \" + new_text if current_text else new_text\n",
        "        students[selected_student]['free_text'] = updated_text\n",
        "\n",
        "        # Write updated student data back to file\n",
        "        with open('students.txt', 'w') as f:\n",
        "            for name, info in students.items():\n",
        "                line = f\"{name},{info['lastname']},{info['email']},{info['fav_program']},{info['youtube_link']},{info['free_text'].replace(',', ' ')}\\n\"\n",
        "                f.write(line)\n",
        "\n",
        "        # Clear the free text input box\n",
        "        free_text_textbox.value = ''\n",
        "\n",
        "        print(f\"Note added for {selected_student} and saved successfully!\")\n",
        "\n",
        "# Load student data\n",
        "students = load_student_data('students.txt')\n",
        "\n",
        "# Create widgets\n",
        "student_dropdown = widgets.Dropdown(\n",
        "    options=list(students.keys()),\n",
        "    description='Student:',\n",
        "    style={'description_width': 'initial'}\n",
        ")\n",
        "\n",
        "lastname_textbox = widgets.Text(description='Last Name:', disabled=True)\n",
        "email_textbox = widgets.Text(description='Email:', disabled=True)\n",
        "fav_program_textbox = widgets.Text(description='Favorite Program:', disabled=True)\n",
        "youtube_link_html = widgets.HTML(value='', description='YouTube:')\n",
        "free_text_textbox = widgets.Text(description='Free Text:', disabled=False) # Create free text textbox\n",
        "submit_button = widgets.Button(description=\"Submit\") # Create submit button\n",
        "\n",
        "# Display widgets\n",
        "display(HTML('<h1 style=\"text-align: center;\">Student Details</h1>'))\n",
        "display(student_dropdown)\n",
        "display(lastname_textbox)\n",
        "display(email_textbox)\n",
        "display(fav_program_textbox)\n",
        "display(youtube_link_html)\n",
        "\n",
        "# Display free text textbox and submit button in a horizontal box\n",
        "hbox = widgets.HBox([free_text_textbox, submit_button])\n",
        "display(hbox)\n",
        "\n",
        "# Observe dropdown changes\n",
        "student_dropdown.observe(update_details, names='value')\n",
        "\n",
        "# Initial display\n",
        "if students:\n",
        "    update_details({'new': list(students.keys())[0]})\n",
        "\n",
        "# Styling\n",
        "display(HTML(\"\"\"\n",
        "<style>\n",
        ".widget-label {\n",
        "  width: 150px !important; /* Adjust label width as needed */\n",
        "}\n",
        "</style>\n",
        "\"\"\"))\n",
        "\n",
        "# Attach submit button click event\n",
        "submit_button.on_click(submit_free_text)"
      ],
      "metadata": {
        "colab": {
          "base_uri": "https://localhost:8080/",
          "height": 332
        },
        "id": "LQcqEexDaFNr",
        "outputId": "94093c13-d14f-439a-d273-6027df598bcb"
      },
      "execution_count": null,
      "outputs": [
        {
          "output_type": "error",
          "ename": "FileNotFoundError",
          "evalue": "[Errno 2] No such file or directory: 'students.txt'",
          "traceback": [
            "\u001b[0;31m---------------------------------------------------------------------------\u001b[0m",
            "\u001b[0;31mFileNotFoundError\u001b[0m                         Traceback (most recent call last)",
            "\u001b[0;32m<ipython-input-1-d2c3e003e401>\u001b[0m in \u001b[0;36m<cell line: 0>\u001b[0;34m()\u001b[0m\n\u001b[1;32m     67\u001b[0m \u001b[0;34m\u001b[0m\u001b[0m\n\u001b[1;32m     68\u001b[0m \u001b[0;31m# Load student data\u001b[0m\u001b[0;34m\u001b[0m\u001b[0;34m\u001b[0m\u001b[0m\n\u001b[0;32m---> 69\u001b[0;31m \u001b[0mstudents\u001b[0m \u001b[0;34m=\u001b[0m \u001b[0mload_student_data\u001b[0m\u001b[0;34m(\u001b[0m\u001b[0;34m'students.txt'\u001b[0m\u001b[0;34m)\u001b[0m\u001b[0;34m\u001b[0m\u001b[0;34m\u001b[0m\u001b[0m\n\u001b[0m\u001b[1;32m     70\u001b[0m \u001b[0;34m\u001b[0m\u001b[0m\n\u001b[1;32m     71\u001b[0m \u001b[0;31m# Create widgets\u001b[0m\u001b[0;34m\u001b[0m\u001b[0;34m\u001b[0m\u001b[0m\n",
            "\u001b[0;32m<ipython-input-1-d2c3e003e401>\u001b[0m in \u001b[0;36mload_student_data\u001b[0;34m(filename)\u001b[0m\n\u001b[1;32m      5\u001b[0m \u001b[0;32mdef\u001b[0m \u001b[0mload_student_data\u001b[0m\u001b[0;34m(\u001b[0m\u001b[0mfilename\u001b[0m\u001b[0;34m)\u001b[0m\u001b[0;34m:\u001b[0m\u001b[0;34m\u001b[0m\u001b[0;34m\u001b[0m\u001b[0m\n\u001b[1;32m      6\u001b[0m     \u001b[0mstudents\u001b[0m \u001b[0;34m=\u001b[0m \u001b[0;34m{\u001b[0m\u001b[0;34m}\u001b[0m\u001b[0;34m\u001b[0m\u001b[0;34m\u001b[0m\u001b[0m\n\u001b[0;32m----> 7\u001b[0;31m     \u001b[0;32mwith\u001b[0m \u001b[0mopen\u001b[0m\u001b[0;34m(\u001b[0m\u001b[0mfilename\u001b[0m\u001b[0;34m,\u001b[0m \u001b[0;34m'r'\u001b[0m\u001b[0;34m)\u001b[0m \u001b[0;32mas\u001b[0m \u001b[0mf\u001b[0m\u001b[0;34m:\u001b[0m\u001b[0;34m\u001b[0m\u001b[0;34m\u001b[0m\u001b[0m\n\u001b[0m\u001b[1;32m      8\u001b[0m         \u001b[0;32mfor\u001b[0m \u001b[0mline\u001b[0m \u001b[0;32min\u001b[0m \u001b[0mf\u001b[0m\u001b[0;34m:\u001b[0m\u001b[0;34m\u001b[0m\u001b[0;34m\u001b[0m\u001b[0m\n\u001b[1;32m      9\u001b[0m             \u001b[0mparts\u001b[0m \u001b[0;34m=\u001b[0m \u001b[0mline\u001b[0m\u001b[0;34m.\u001b[0m\u001b[0mstrip\u001b[0m\u001b[0;34m(\u001b[0m\u001b[0;34m)\u001b[0m\u001b[0;34m.\u001b[0m\u001b[0msplit\u001b[0m\u001b[0;34m(\u001b[0m\u001b[0;34m','\u001b[0m\u001b[0;34m)\u001b[0m\u001b[0;34m\u001b[0m\u001b[0;34m\u001b[0m\u001b[0m\n",
            "\u001b[0;31mFileNotFoundError\u001b[0m: [Errno 2] No such file or directory: 'students.txt'"
          ]
        }
      ]
    }
  ]
}